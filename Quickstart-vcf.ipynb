{
 "cells": [
  {
   "cell_type": "markdown",
   "metadata": {},
   "source": [
    "# TileDB-VCF Quickstart on TileDB Cloud"
   ]
  },
  {
   "cell_type": "markdown",
   "metadata": {},
   "source": [
    "TileDB-VCF can be used with TileDB Cloud to provide collaborative oppertunities and serverless computations.\n",
    "\n",
    "In this quickstart we will walk through an example reading from a dataset into pandas dataframe"
   ]
  },
  {
   "cell_type": "code",
   "execution_count": 7,
   "metadata": {},
   "outputs": [],
   "source": [
    "# Import libraries\n",
    "import tiledbvcf, tiledb, tiledb.cloud"
   ]
  },
  {
   "cell_type": "markdown",
   "metadata": {},
   "source": [
    "First we will create the configuration and open the TileDBVCFDataset in read mode"
   ]
  },
  {
   "cell_type": "code",
   "execution_count": 8,
   "metadata": {},
   "outputs": [],
   "source": [
    "# Set config to the cloud config so credentials are passed in\n",
    "cfg = tiledbvcf.ReadConfig(tiledb_config=tiledb.cloud.Config())\n",
    "\n",
    "# Access the VCF dataset using the TileDB Cloud URI\n",
    "ds = tiledbvcf.TileDBVCFDataset('tiledb://TileDB-Inc/vcf-samples-20', mode='r', cfg=cfg)"
   ]
  },
  {
   "cell_type": "markdown",
   "metadata": {},
   "source": [
    "### Reading into Pandas DataFrame"
   ]
  },
  {
   "cell_type": "markdown",
   "metadata": {},
   "source": [
    "Using the read command we are able to read directly into a pandas dataframe"
   ]
  },
  {
   "cell_type": "code",
   "execution_count": 9,
   "metadata": {},
   "outputs": [
    {
     "data": {
      "text/html": [
       "<div>\n",
       "<style scoped>\n",
       "    .dataframe tbody tr th:only-of-type {\n",
       "        vertical-align: middle;\n",
       "    }\n",
       "\n",
       "    .dataframe tbody tr th {\n",
       "        vertical-align: top;\n",
       "    }\n",
       "\n",
       "    .dataframe thead th {\n",
       "        text-align: right;\n",
       "    }\n",
       "</style>\n",
       "<table border=\"1\" class=\"dataframe\">\n",
       "  <thead>\n",
       "    <tr style=\"text-align: right;\">\n",
       "      <th></th>\n",
       "      <th>sample_name</th>\n",
       "      <th>pos_start</th>\n",
       "      <th>pos_end</th>\n",
       "      <th>alleles</th>\n",
       "    </tr>\n",
       "  </thead>\n",
       "  <tbody>\n",
       "    <tr>\n",
       "      <th>0</th>\n",
       "      <td>v2-tJjMfKyL</td>\n",
       "      <td>1</td>\n",
       "      <td>10256</td>\n",
       "      <td>[N, &lt;NON_REF&gt;]</td>\n",
       "    </tr>\n",
       "    <tr>\n",
       "      <th>1</th>\n",
       "      <td>v2-Mcwmkqnx</td>\n",
       "      <td>1</td>\n",
       "      <td>10615</td>\n",
       "      <td>[N, &lt;NON_REF&gt;]</td>\n",
       "    </tr>\n",
       "    <tr>\n",
       "      <th>2</th>\n",
       "      <td>v2-tJjMfKyL</td>\n",
       "      <td>10257</td>\n",
       "      <td>10258</td>\n",
       "      <td>[A, &lt;NON_REF&gt;]</td>\n",
       "    </tr>\n",
       "    <tr>\n",
       "      <th>3</th>\n",
       "      <td>v2-tJjMfKyL</td>\n",
       "      <td>10259</td>\n",
       "      <td>10638</td>\n",
       "      <td>[C, &lt;NON_REF&gt;]</td>\n",
       "    </tr>\n",
       "    <tr>\n",
       "      <th>4</th>\n",
       "      <td>v2-tJjMfKyL</td>\n",
       "      <td>10639</td>\n",
       "      <td>10668</td>\n",
       "      <td>[G, &lt;NON_REF&gt;]</td>\n",
       "    </tr>\n",
       "    <tr>\n",
       "      <th>5</th>\n",
       "      <td>v2-tJjMfKyL</td>\n",
       "      <td>10669</td>\n",
       "      <td>10914</td>\n",
       "      <td>[C, &lt;NON_REF&gt;]</td>\n",
       "    </tr>\n",
       "    <tr>\n",
       "      <th>6</th>\n",
       "      <td>v2-tJjMfKyL</td>\n",
       "      <td>10915</td>\n",
       "      <td>10921</td>\n",
       "      <td>[G, &lt;NON_REF&gt;]</td>\n",
       "    </tr>\n",
       "    <tr>\n",
       "      <th>7</th>\n",
       "      <td>v2-tJjMfKyL</td>\n",
       "      <td>10922</td>\n",
       "      <td>10986</td>\n",
       "      <td>[G, &lt;NON_REF&gt;]</td>\n",
       "    </tr>\n",
       "    <tr>\n",
       "      <th>8</th>\n",
       "      <td>v2-tJjMfKyL</td>\n",
       "      <td>10987</td>\n",
       "      <td>10987</td>\n",
       "      <td>[A, &lt;NON_REF&gt;]</td>\n",
       "    </tr>\n",
       "    <tr>\n",
       "      <th>9</th>\n",
       "      <td>v2-tJjMfKyL</td>\n",
       "      <td>10988</td>\n",
       "      <td>10993</td>\n",
       "      <td>[G, &lt;NON_REF&gt;]</td>\n",
       "    </tr>\n",
       "    <tr>\n",
       "      <th>10</th>\n",
       "      <td>v2-tJjMfKyL</td>\n",
       "      <td>10994</td>\n",
       "      <td>11014</td>\n",
       "      <td>[G, &lt;NON_REF&gt;]</td>\n",
       "    </tr>\n",
       "    <tr>\n",
       "      <th>11</th>\n",
       "      <td>v2-Mcwmkqnx</td>\n",
       "      <td>10616</td>\n",
       "      <td>12801</td>\n",
       "      <td>[C, &lt;NON_REF&gt;]</td>\n",
       "    </tr>\n",
       "  </tbody>\n",
       "</table>\n",
       "</div>"
      ],
      "text/plain": [
       "    sample_name  pos_start  pos_end         alleles\n",
       "0   v2-tJjMfKyL          1    10256  [N, <NON_REF>]\n",
       "1   v2-Mcwmkqnx          1    10615  [N, <NON_REF>]\n",
       "2   v2-tJjMfKyL      10257    10258  [A, <NON_REF>]\n",
       "3   v2-tJjMfKyL      10259    10638  [C, <NON_REF>]\n",
       "4   v2-tJjMfKyL      10639    10668  [G, <NON_REF>]\n",
       "5   v2-tJjMfKyL      10669    10914  [C, <NON_REF>]\n",
       "6   v2-tJjMfKyL      10915    10921  [G, <NON_REF>]\n",
       "7   v2-tJjMfKyL      10922    10986  [G, <NON_REF>]\n",
       "8   v2-tJjMfKyL      10987    10987  [A, <NON_REF>]\n",
       "9   v2-tJjMfKyL      10988    10993  [G, <NON_REF>]\n",
       "10  v2-tJjMfKyL      10994    11014  [G, <NON_REF>]\n",
       "11  v2-Mcwmkqnx      10616    12801  [C, <NON_REF>]"
      ]
     },
     "execution_count": 9,
     "metadata": {},
     "output_type": "execute_result"
    }
   ],
   "source": [
    "df = ds.read(attrs=['sample_name', 'pos_start', 'pos_end', 'alleles'], regions=['chr1:10000-11000'], samples=['v2-tJjMfKyL', 'v2-Mcwmkqnx'])\n",
    "df"
   ]
  },
  {
   "cell_type": "code",
   "execution_count": null,
   "metadata": {},
   "outputs": [],
   "source": []
  }
 ],
 "metadata": {
  "kernelspec": {
   "display_name": "Python 3",
   "language": "python",
   "name": "python3"
  },
  "language_info": {
   "codemirror_mode": {
    "name": "ipython",
    "version": 3
   },
   "file_extension": ".py",
   "mimetype": "text/x-python",
   "name": "python",
   "nbconvert_exporter": "python",
   "pygments_lexer": "ipython3",
   "version": "3.7.6"
  }
 },
 "nbformat": 4,
 "nbformat_minor": 4
}
