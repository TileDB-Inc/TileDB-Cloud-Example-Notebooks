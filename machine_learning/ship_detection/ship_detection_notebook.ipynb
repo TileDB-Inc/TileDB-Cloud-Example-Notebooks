{
 "cells": [
  {
   "cell_type": "code",
   "execution_count": 1,
   "metadata": {},
   "outputs": [
    {
     "name": "stdout",
     "output_type": "stream",
     "text": [
      "Works\n"
     ]
    }
   ],
   "source": [
    "import tiledb\n",
    "import numpy\n",
    "\n",
    "\n",
    "train_images = \"s3://tiledb-gskoumas/airbus_ship_detection_tiledb/train_ship_images\"\n",
    "train_segs = \"s3://tiledb-gskoumas/airbus_ship_detection_tiledb/train_ship_segments\"\n",
    "\n",
    "val_images = \"s3://tiledb-gskoumas/airbus_ship_detection_tiledb/val_ship_images\"\n",
    "val_segs = \"s3://tiledb-gskoumas/airbus_ship_detection_tiledb/val_ship_segments\"\n",
    "\n",
    "ctx = tiledb.Ctx()\n",
    "\n",
    "train_images_array = tiledb.open(train_images, 'w', ctx=ctx)\n",
    "train_segs_array = tiledb.open(train_segs, 'w', ctx=ctx)\n",
    "val_images_array = tiledb.open(val_images, 'w', ctx=ctx)\n",
    "val_segs_array = tiledb.open(val_segs, 'w', ctx=ctx)\n",
    "\n",
    "\n",
    "batch_imgs = train_images[0:32]\n",
    "batch_segs = train_images[0:32]\n",
    "\n",
    "\n",
    "print('Works')"
   ]
  }
 ],
 "metadata": {
  "kernelspec": {
   "display_name": "Python 3",
   "language": "python",
   "name": "python3"
  },
  "language_info": {
   "codemirror_mode": {
    "name": "ipython",
    "version": 3
   },
   "file_extension": ".py",
   "mimetype": "text/x-python",
   "name": "python",
   "nbconvert_exporter": "python",
   "pygments_lexer": "ipython3",
   "version": "3.7.3"
  }
 },
 "nbformat": 4,
 "nbformat_minor": 1
}
