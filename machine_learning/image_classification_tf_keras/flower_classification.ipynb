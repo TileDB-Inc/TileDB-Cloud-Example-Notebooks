{
 "cells": [
  {
   "cell_type": "markdown",
   "metadata": {
    "pycharm": {
     "name": "#%% md\n"
    }
   },
   "source": [
    "This is an example of how to train a basic image classification model with Keras and Tensorflow, using TileDB as storage for images.\n",
    "First of all let's import everything we will need."
   ]
  },
  {
   "cell_type": "code",
   "execution_count": 10,
   "metadata": {
    "pycharm": {
     "name": "#%%\n"
    }
   },
   "outputs": [],
   "source": [
    "import tiledb\n",
    "import os\n",
    "import tensorflow as tf\n",
    "import glob\n",
    "import cv2\n",
    "import numpy as np\n",
    "\n",
    "from tensorflow.keras.models import Sequential\n",
    "from tensorflow.keras.layers import Dense, Conv2D, Flatten, Activation, MaxPooling2D, Dropout"
   ]
  },
  {
   "cell_type": "markdown",
   "metadata": {
    "pycharm": {
     "name": "#%% md\n"
    }
   },
   "source": [
    "We have to download the flower image dataset."
   ]
  },
  {
   "cell_type": "code",
   "execution_count": 13,
   "metadata": {
    "pycharm": {
     "name": "#%%\n"
    }
   },
   "outputs": [
    {
     "name": "stdout",
     "output_type": "stream",
     "text": [
      "[STATUS] downloading image data...\n",
      "[STATUS] downloading image data finished...\n"
     ]
    }
   ],
   "source": [
    "print(\"[STATUS] downloading image data...\")\n",
    "data_dir = tf.keras.utils.get_file(\n",
    "    'flower_photos',\n",
    "    'https://storage.googleapis.com/download.tensorflow.org/example_images/flower_photos.tgz',\n",
    "    untar=True)\n",
    "os.system(\"mv ~/.keras/datasets/flower_photos ./data\")\n",
    "print(\"[STATUS] downloading image data finished...\")"
   ]
  },
  {
   "cell_type": "markdown",
   "source": [
    "Let's define image size in order to later rescale our images, batch size for training our model, data and TileDB array paths."
   ],
   "metadata": {
    "collapsed": false,
    "pycharm": {
     "name": "#%% md\n"
    }
   }
  },
  {
   "cell_type": "code",
   "execution_count": null,
   "outputs": [],
   "source": [
    "# Image size for rescaling.\n",
    "IMAGE_SIZE = (224, 224)\n",
    "\n",
    "# Batch size for training an image classification model.\n",
    "BATCH_SIZE = 32\n",
    "\n",
    "# Where our data live.\n",
    "DATA_PATH = \"data/flower_photos\"\n",
    "\n",
    "# Where our tileDB arrays live.\n",
    "TILEDB_PATH = \"data/flower_photos_tiledb\"\n",
    "\n",
    "if not os.path.exists(TILEDB_PATH):\n",
    "    os.mkdir(TILEDB_PATH)\n",
    "\n",
    "# The actual TileDB Arrays.\n",
    "tiledb_images_train = os.path.join(TILEDB_PATH, \"images_train\")\n",
    "tiledb_labels_train = os.path.join(TILEDB_PATH, \"labels_train\")\n",
    "\n",
    "tiledb_images_validate = os.path.join(TILEDB_PATH, \"images_validate\")\n",
    "tiledb_labels_validate = os.path.join(TILEDB_PATH, \"labels_validate\")\n",
    "\n",
    "tiledb_images_test = os.path.join(TILEDB_PATH, \"images_test\")\n",
    "tiledb_labels_test = os.path.join(TILEDB_PATH, \"labels_test\")"
   ],
   "metadata": {
    "collapsed": false,
    "pycharm": {
     "name": "#%%\n"
    }
   }
  },
  {
   "cell_type": "code",
   "execution_count": null,
   "metadata": {},
   "outputs": [],
   "source": []
  }
 ],
 "metadata": {
  "kernelspec": {
   "display_name": "Python 3",
   "language": "python",
   "name": "python3"
  },
  "language_info": {
   "codemirror_mode": {
    "name": "ipython",
    "version": 3
   },
   "file_extension": ".py",
   "mimetype": "text/x-python",
   "name": "python",
   "nbconvert_exporter": "python",
   "pygments_lexer": "ipython3",
   "version": "3.7.3"
  }
 },
 "nbformat": 4,
 "nbformat_minor": 1
}